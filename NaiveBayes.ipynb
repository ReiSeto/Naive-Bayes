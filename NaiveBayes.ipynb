{
 "cells": [
  {
   "cell_type": "code",
   "execution_count": 2,
   "metadata": {},
   "outputs": [
    {
     "name": "stdout",
     "output_type": "stream",
     "text": [
      "   age           job  marital  education default  balance housing loan  \\\n",
      "0   58    management  married   tertiary      no     2143     yes   no   \n",
      "1   44    technician   single  secondary      no       29     yes   no   \n",
      "2   33  entrepreneur  married  secondary      no        2     yes  yes   \n",
      "3   47   blue-collar  married    unknown      no     1506     yes   no   \n",
      "4   33       unknown   single    unknown      no        1      no   no   \n",
      "\n",
      "   contact  day month  duration  campaign  pdays  previous poutcome   y  \n",
      "0  unknown    5   may       261         1     -1         0  unknown  no  \n",
      "1  unknown    5   may       151         1     -1         0  unknown  no  \n",
      "2  unknown    5   may        76         1     -1         0  unknown  no  \n",
      "3  unknown    5   may        92         1     -1         0  unknown  no  \n",
      "4  unknown    5   may       198         1     -1         0  unknown  no  \n"
     ]
    }
   ],
   "source": [
    "import pandas as pd\n",
    "df = pd.read_csv('bank-full.csv', delimiter=';')\n",
    "print(df.head())"
   ]
  },
  {
   "cell_type": "markdown",
   "metadata": {},
   "source": [
    "age: Tuổi của khách hàng.\n",
    "job: Nghề nghiệp của khách hàng.\n",
    "marital: Tình trạng hôn nhân của khách hàng.\n",
    "education: Trình độ học vấn của khách hàng.\n",
    "default: Có vay mặc định không (có/không).\n",
    "balance: Số dư trong tài khoản.\n",
    "housing: Có vay mua nhà không (có/không).\n",
    "loan: Có vay cá nhân không (có/không).\n",
    "contact: Phương tiện liên lạc.\n",
    "day: Ngày cuộc gọi được thực hiện trong tháng.\n",
    "month: Tháng cuộc gọi được thực hiện.\n",
    "duration: Thời lượng cuộc gọi trong giây.\n",
    "campaign: Số lượng lần liên lạc trong chiến dịch này.\n",
    "pdays: Số ngày trôi qua từ cuộc gọi trước đó trong chiến dịch trước đó (-1 nếu không có mối quan hệ trước đó).\n",
    "previous: Số lần liên lạc trước đó trong chiến dịch này.\n",
    "poutcome: Kết quả của chiến dịch trước đó.\n",
    "y: Kết quả cuối cùng của chiến dịch tiếp thị (có/không)."
   ]
  },
  {
   "cell_type": "markdown",
   "metadata": {},
   "source": [
    "* Naive Bayes Đa Thức (Multinomial Naive Bayes):\n",
    "Phù hợp với các đặc trưng mà có thể được biểu diễn dưới dạng tần suất xuất hiện của các sự kiện. Ví dụ: \"education\", \"contact\", \"month\".\n",
    "Điều này phù hợp với dữ liệu như \"tertiary\", \"secondary\" trong cột \"education\", hoặc \"may\", \"unknown\" trong cột \"month\".\n",
    "\n",
    "* Naive Bayes Bernoulli:\n",
    "Phù hợp với các đặc trưng nhị phân (binary) - tức là các đặc trưng chỉ nhận giá trị true hoặc false. Ví dụ: \"default\", \"housing\", \"loan\".\n",
    "Điều này phù hợp với các cột như \"default\", \"housing\", \"loan\" trong dữ liệu, vì chúng chỉ nhận giá trị \"yes\" hoặc \"no\".\n",
    "\n",
    "* Naive Bayes Gaussian:\n",
    "Phù hợp với các đặc trưng có phân phối Gaussian, tức là dữ liệu liên tục. Trong dữ liệu, \"age\", \"balance\", \"duration\", \"campaign\", \"pdays\", \"previous\" có thể phù hợp với mô hình này.\n",
    "Tuy nhiên, dữ liệu như \"job\", \"marital\", \"education\", \"contact\", \"month\" không phải dạng số và không phải phân phối Gaussian, nên không thích hợp cho mô hình Naive Bayes Gaussian"
   ]
  },
  {
   "cell_type": "markdown",
   "metadata": {},
   "source": [
    "=> Việc kết hợp các mô hình lại sẽ khiến mô hình phức tạp, khó hiểu, mất nhiều thời gian huấn luyện. Tuy nhiên việc hiệu suất có được cải thiện hay không thì cũng không chắc chắn."
   ]
  },
  {
   "cell_type": "markdown",
   "metadata": {},
   "source": [
    "=> Theo kinh nghiệm, các trường dữ liệu như số dư, tuổi tác, cũng như các thông tin về dữ liệu thời gian cuộc gọi rất quan trọng trong việc quyết định có thực hiện tiếp thị hay không, những biến này đều là những đặc trưng phân phối liên tục, ngoài ra các thông tin như vay mặc định, vay mua nhà, vay cá nhân (các đặc trưng nhị phân cũng khá quan trọng). Các thông tin thứ yếu tiếp theo là phương tiện liên lạc, trình độ giáo dục."
   ]
  },
  {
   "cell_type": "markdown",
   "metadata": {},
   "source": [
    "=> Chọn mô hình theo những đặc trưng quan trọng nhất. Những đặc trưng này được phân phối liên tục nên ta chọn mô hình Gaussian Naive Bayes. Các dữ liệu còn lại hoàn toàn có thể tiền xử lý để phù hợp với mô hình Gaussian Naive Bayes"
   ]
  },
  {
   "cell_type": "markdown",
   "metadata": {},
   "source": [
    "Thực hiện tiền xử lý dữ liệu cho phân lớp Gaussian Naive Bayes, tất cả các cột có kiểu dữ liệu là String sẽ chuyển sang dữ liệu số."
   ]
  },
  {
   "cell_type": "code",
   "execution_count": 3,
   "metadata": {},
   "outputs": [
    {
     "name": "stdout",
     "output_type": "stream",
     "text": [
      "   age           job  marital  education default  balance housing loan  \\\n",
      "0   58    management  married   tertiary      no     2143     yes   no   \n",
      "1   44    technician   single  secondary      no       29     yes   no   \n",
      "2   33  entrepreneur  married  secondary      no        2     yes  yes   \n",
      "3   47   blue-collar  married    unknown      no     1506     yes   no   \n",
      "4   33       unknown   single    unknown      no        1      no   no   \n",
      "\n",
      "   contact  day month  duration  campaign  pdays  previous poutcome   y  \n",
      "0  unknown    5   may       261         1     -1         0  unknown  no  \n",
      "1  unknown    5   may       151         1     -1         0  unknown  no  \n",
      "2  unknown    5   may        76         1     -1         0  unknown  no  \n",
      "3  unknown    5   may        92         1     -1         0  unknown  no  \n",
      "4  unknown    5   may       198         1     -1         0  unknown  no  \n",
      "   age  job  marital  education  default  balance  housing  loan  contact  \\\n",
      "0   58    4        1          2        0     2143        1     0        2   \n",
      "1   44    9        2          1        0       29        1     0        2   \n",
      "2   33    2        1          1        0        2        1     1        2   \n",
      "3   47    1        1          3        0     1506        1     0        2   \n",
      "4   33   11        2          3        0        1        0     0        2   \n",
      "\n",
      "   day  month  duration  campaign  pdays  previous  poutcome   y  \n",
      "0    5      8       261         1     -1         0         3  no  \n",
      "1    5      8       151         1     -1         0         3  no  \n",
      "2    5      8        76         1     -1         0         3  no  \n",
      "3    5      8        92         1     -1         0         3  no  \n",
      "4    5      8       198         1     -1         0         3  no  \n",
      "Dữ liệu huấn luyện:\n",
      "       age  job  marital  education  default  balance  housing  loan  contact  \\\n",
      "3344    41    1        1          0        0      849        1     0        2   \n",
      "17965   49    9        1          0        0     1415        1     0        0   \n",
      "18299   42    0        1          1        0     3842        0     0        0   \n",
      "10221   37    4        2          2        0     -119        1     0        2   \n",
      "32192   56    1        1          0        0     3498        0     0        0   \n",
      "\n",
      "       day  month  duration  campaign  pdays  previous  poutcome  \n",
      "3344    15      8        72         1     -1         0         3  \n",
      "17965   30      5       269         2     -1         0         3  \n",
      "18299   31      5       130         4     -1         0         3  \n",
      "10221   11      6       375        11     -1         0         3  \n",
      "32192   15      0       264         2     -1         0         3  \n",
      "\n",
      "Nhãn dữ liệu huấn luyện:\n",
      "3344      no\n",
      "17965     no\n",
      "18299     no\n",
      "10221     no\n",
      "32192    yes\n",
      "Name: y, dtype: object\n"
     ]
    }
   ],
   "source": [
    "import pandas as pd\n",
    "from sklearn.model_selection import train_test_split\n",
    "from sklearn.preprocessing import LabelEncoder\n",
    "\n",
    "data = pd.read_csv(\"bank-full.csv\", delimiter=\";\")\n",
    "\n",
    "print(data.head())\n",
    "\n",
    "label_encoder = LabelEncoder()\n",
    "categorical_columns = ['job', 'marital', 'education', 'default', 'housing', 'loan', 'contact', 'month', 'poutcome']\n",
    "for col in categorical_columns:\n",
    "    data[col] = label_encoder.fit_transform(data[col])\n",
    "\n",
    "print(data.head())\n",
    "\n",
    "X = data.drop('y', axis=1)\n",
    "y = data['y'] \n",
    "\n",
    "X_train, X_test, y_train, y_test = train_test_split(X, y, test_size=0.2, random_state=42)\n",
    "\n",
    "print(\"Dữ liệu huấn luyện:\")\n",
    "print(X_train.head())\n",
    "print(\"\\nNhãn dữ liệu huấn luyện:\")\n",
    "print(y_train.head())"
   ]
  },
  {
   "cell_type": "markdown",
   "metadata": {},
   "source": [
    "Huấn luyện mô hình "
   ]
  },
  {
   "cell_type": "code",
   "execution_count": 4,
   "metadata": {},
   "outputs": [
    {
     "name": "stdout",
     "output_type": "stream",
     "text": [
      "Accuracy: 0.8289284529470309\n",
      "              precision    recall  f1-score   support\n",
      "\n",
      "          no       0.92      0.88      0.90      7952\n",
      "         yes       0.34      0.46      0.39      1091\n",
      "\n",
      "    accuracy                           0.83      9043\n",
      "   macro avg       0.63      0.67      0.65      9043\n",
      "weighted avg       0.85      0.83      0.84      9043\n",
      "\n"
     ]
    }
   ],
   "source": [
    "from sklearn.model_selection import train_test_split\n",
    "from sklearn.naive_bayes import GaussianNB\n",
    "from sklearn.metrics import accuracy_score, classification_report\n",
    "\n",
    "X_train, X_test, y_train, y_test = train_test_split(X, y, test_size=0.2, random_state=42)\n",
    "\n",
    "model = GaussianNB()\n",
    "model.fit(X_train, y_train)\n",
    "\n",
    "y_pred = model.predict(X_test)\n",
    "\n",
    "accuracy = accuracy_score(y_test, y_pred)\n",
    "print(\"Accuracy:\", accuracy)\n",
    "print(classification_report(y_test, y_pred))\n"
   ]
  },
  {
   "cell_type": "markdown",
   "metadata": {},
   "source": [
    "=> Nhận xét: độ chính xác 82.89% là khá cao nhưng vẫn có thể cải thiện bằng những phương pháp sau:"
   ]
  },
  {
   "cell_type": "markdown",
   "metadata": {},
   "source": [
    "Tinh chỉnh siêu tham số cho mô hình, ở đây là tham số var-smoothing"
   ]
  },
  {
   "cell_type": "code",
   "execution_count": 5,
   "metadata": {},
   "outputs": [
    {
     "name": "stdout",
     "output_type": "stream",
     "text": [
      "Best parameters: {'var_smoothing': 1e-05}\n",
      "Best accuracy: 0.8814146723532869\n",
      "Accuracy on test set: 0.8760367134800399\n",
      "              precision    recall  f1-score   support\n",
      "\n",
      "          no       0.91      0.96      0.93      7952\n",
      "         yes       0.48      0.30      0.37      1091\n",
      "\n",
      "    accuracy                           0.88      9043\n",
      "   macro avg       0.69      0.63      0.65      9043\n",
      "weighted avg       0.86      0.88      0.86      9043\n",
      "\n"
     ]
    }
   ],
   "source": [
    "from sklearn.metrics import classification_report\n",
    "from sklearn.model_selection import GridSearchCV\n",
    "from sklearn.naive_bayes import GaussianNB\n",
    "\n",
    "model = GaussianNB()\n",
    "\n",
    "param_grid = {\n",
    "    'var_smoothing': [1e-9, 1e-8, 1e-7, 1e-6, 1e-5]\n",
    "}\n",
    "\n",
    "grid_search = GridSearchCV(model, param_grid, cv=5, scoring='accuracy')\n",
    "grid_search.fit(X_train, y_train)\n",
    "\n",
    "print(\"Best parameters:\", grid_search.best_params_)\n",
    "print(\"Best accuracy:\", grid_search.best_score_)\n",
    "\n",
    "best_model = grid_search.best_estimator_\n",
    "y_pred = best_model.predict(X_test)\n",
    "accuracy = accuracy_score(y_test, y_pred)\n",
    "print(\"Accuracy on test set:\", accuracy)\n",
    "print(classification_report(y_test, y_pred))"
   ]
  },
  {
   "cell_type": "markdown",
   "metadata": {},
   "source": [
    "Kiểm tra và loại bỏ nhiễu"
   ]
  },
  {
   "cell_type": "code",
   "execution_count": 6,
   "metadata": {},
   "outputs": [
    {
     "name": "stdout",
     "output_type": "stream",
     "text": [
      "              precision    recall  f1-score   support\n",
      "\n",
      "          no       0.91      0.96      0.93      7952\n",
      "         yes       0.51      0.33      0.40      1091\n",
      "\n",
      "    accuracy                           0.88      9043\n",
      "   macro avg       0.71      0.64      0.67      9043\n",
      "weighted avg       0.86      0.88      0.87      9043\n",
      "\n"
     ]
    }
   ],
   "source": [
    "from sklearn.ensemble import IsolationForest\n",
    "from sklearn.metrics import classification_report\n",
    "\n",
    "outlier_detector = IsolationForest(random_state=42)\n",
    "outlier_detector.fit(X_train)\n",
    "noisy_samples = outlier_detector.predict(X_train)\n",
    "clean_X_train = X_train[noisy_samples == 1]\n",
    "clean_y_train = y_train[noisy_samples == 1]\n",
    "\n",
    "best_model.fit(clean_X_train, clean_y_train)\n",
    "y_pred = best_model.predict(X_test)\n",
    "\n",
    "print(classification_report(y_test, y_pred))\n"
   ]
  },
  {
   "cell_type": "code",
   "execution_count": 7,
   "metadata": {},
   "outputs": [
    {
     "data": {
      "text/plain": [
       "['naive_bayes.joblib']"
      ]
     },
     "execution_count": 7,
     "metadata": {},
     "output_type": "execute_result"
    }
   ],
   "source": [
    "import joblib\n",
    "joblib.dump(best_model, 'naive_bayes.joblib')"
   ]
  },
  {
   "cell_type": "markdown",
   "metadata": {},
   "source": [
    "=> Độ chính xác tổng thể đã có cải thiện hơn so với mô hình sau khi tinh chỉnh siêu tham số, cụ thể là 88%. Tuy độ chính xác tổng thể (accuracy) đã tăng lên và f1-score cho nhãn \"yes\" cũng cao hơn, nhưng vẫn còn sự mất cân bằng giữa precision và recall cho nhãn \"yes\". Điều này cho thấy rằng mô hình vẫn gặp khó khăn trong việc phân loại các trường hợp của nhãn \"yes\"."
   ]
  },
  {
   "cell_type": "markdown",
   "metadata": {},
   "source": [
    "Kiểm tra cân bằng dữ liệu bằng kĩ thuật Undersampling"
   ]
  },
  {
   "cell_type": "code",
   "execution_count": 8,
   "metadata": {},
   "outputs": [
    {
     "name": "stdout",
     "output_type": "stream",
     "text": [
      "              precision    recall  f1-score   support\n",
      "\n",
      "          no       0.93      0.87      0.90      7952\n",
      "         yes       0.37      0.55      0.44      1091\n",
      "\n",
      "    accuracy                           0.83      9043\n",
      "   macro avg       0.65      0.71      0.67      9043\n",
      "weighted avg       0.87      0.83      0.85      9043\n",
      "\n"
     ]
    }
   ],
   "source": [
    "from imblearn.under_sampling import RandomUnderSampler\n",
    "from sklearn.metrics import classification_report\n",
    "\n",
    "# Undersampling\n",
    "undersampler = RandomUnderSampler(random_state=42)\n",
    "X_resampled, y_resampled = undersampler.fit_resample(clean_X_train, clean_y_train)\n",
    "\n",
    "best_model.fit(X_resampled, y_resampled)\n",
    "\n",
    "y_pred = best_model.predict(X_test)\n",
    "\n",
    "print(classification_report(y_test, y_pred))"
   ]
  },
  {
   "cell_type": "markdown",
   "metadata": {},
   "source": [
    "Sau khi thực hiện cân bằng dữ liệu bằng kỹ thuật undersampling, tuy có cải thiện về f1-score từ 0.40 lên 0.44 tuy nhiên độ chính xác đã giảm đi đáng kể làm ảnh hưởng đến hiệu suất của mô hình.Ta sẽ sử dụng mô hình đã huấn luyện ở bước trước đó (sau khi đã tinh chỉnh siêu tham số và loại bỏ nhiễu)."
   ]
  }
 ],
 "metadata": {
  "kernelspec": {
   "display_name": "venv",
   "language": "python",
   "name": "python3"
  },
  "language_info": {
   "codemirror_mode": {
    "name": "ipython",
    "version": 3
   },
   "file_extension": ".py",
   "mimetype": "text/x-python",
   "name": "python",
   "nbconvert_exporter": "python",
   "pygments_lexer": "ipython3",
   "version": "3.11.3"
  }
 },
 "nbformat": 4,
 "nbformat_minor": 2
}
